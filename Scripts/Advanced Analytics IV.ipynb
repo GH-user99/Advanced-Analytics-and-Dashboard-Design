{
 "cells": [
  {
   "cell_type": "markdown",
   "id": "63296def-8dd5-44b3-80ae-9d205751ec09",
   "metadata": {},
   "source": [
    "# **Achievement No. 6: Advanced Analytics and Dashboard Design (IV)**"
   ]
  },
  {
   "cell_type": "markdown",
   "id": "0efc32d4-b556-4c4d-b6a6-331d394fd24e",
   "metadata": {},
   "source": [
    "## 2026 QS World University Rankings"
   ]
  },
  {
   "cell_type": "markdown",
   "id": "9d90084d-04e6-46b9-8d90-188f470c8c07",
   "metadata": {},
   "source": [
    "### **Contents**"
   ]
  },
  {
   "cell_type": "markdown",
   "id": "8dec15f7-e623-4bb7-b08c-ca97d220c522",
   "metadata": {},
   "source": [
    "##### 1) Importing libraries\n",
    "\n",
    "##### 2) Importing the data set\n",
    "\n",
    "##### 3) Cleaning\n",
    "\n",
    "##### 4) Exploring data visually\n",
    "\n",
    "##### 5) Reshaping variables\n",
    "\n",
    "##### 6) Splitting data into training and test sets\n",
    "\n",
    "##### 7) Linear regression\n",
    "\n",
    "##### 8) Interpretation\n",
    "\n",
    "##### 9) Comparison: Predicted 'y' values vs Actual 'y' values\n",
    "\n",
    "##### 10) Final thoughts"
   ]
  },
  {
   "cell_type": "markdown",
   "id": "333e5780-9d85-43bb-860b-681047d1b8e4",
   "metadata": {},
   "source": [
    "### **1) Importing libraries**"
   ]
  },
  {
   "cell_type": "code",
   "execution_count": 2,
   "id": "18b544f9-2b4f-431d-a7c8-b5bd1a5083a3",
   "metadata": {},
   "outputs": [],
   "source": [
    "import pandas as pd\n",
    "import numpy as np\n",
    "import seaborn as sns\n",
    "import matplotlib\n",
    "import matplotlib.pyplot as plt\n",
    "import os\n",
    "import sklearn\n",
    "from sklearn.model_selection import train_test_split \n",
    "from sklearn.linear_model import LinearRegression\n",
    "from sklearn.metrics import mean_squared_error, r2_score"
   ]
  },
  {
   "cell_type": "code",
   "execution_count": 3,
   "id": "bca11d77-0c94-43dc-8974-4a5108169b5c",
   "metadata": {},
   "outputs": [],
   "source": [
    "# This option ensures that the graphs you create are displayed within the notebook without the need to \"call\" them specifically.\n",
    "\n",
    "%matplotlib inline"
   ]
  },
  {
   "cell_type": "markdown",
   "id": "d74f7f6f-b7c3-47f8-af5d-18c7d69a0c71",
   "metadata": {},
   "source": [
    "### **2) Importing the data set**"
   ]
  },
  {
   "cell_type": "code",
   "execution_count": 4,
   "id": "6411cf27-4ce8-4582-ab6e-d4b34ea897f2",
   "metadata": {},
   "outputs": [],
   "source": [
    "path = r'C:\\Users\\andd0\\Documents\\Jupyter_Advanced Analytics and Dashboard Design'"
   ]
  },
  {
   "cell_type": "code",
   "execution_count": 5,
   "id": "5fa3016d-0b07-4d45-bd9a-d2ffe5b9a880",
   "metadata": {},
   "outputs": [],
   "source": [
    "df_2026_ranking = pd.read_csv(os.path.join(path, '02 Data', 'Prepared Data', 'Advanced Analytics and Dashboard Design (III).csv'), index_col = False)"
   ]
  },
  {
   "cell_type": "markdown",
   "id": "12d7760b-e690-4ec3-a625-8159c23ab42a",
   "metadata": {},
   "source": [
    "### **3) Cleaning**"
   ]
  },
  {
   "cell_type": "code",
   "execution_count": 6,
   "id": "df75f124-eb93-4701-88b5-acdf85df5080",
   "metadata": {},
   "outputs": [
    {
     "data": {
      "text/plain": [
       "(1501, 32)"
      ]
     },
     "execution_count": 6,
     "metadata": {},
     "output_type": "execute_result"
    }
   ],
   "source": [
    "df_2026_ranking.shape"
   ]
  },
  {
   "cell_type": "markdown",
   "id": "a0cd716d-fd67-4b91-b438-fd17bc40f100",
   "metadata": {},
   "source": [
    "##### **Missing values**"
   ]
  },
  {
   "cell_type": "code",
   "execution_count": 7,
   "id": "77b707a3-ffb8-43d2-abe3-c8afb4e72f1f",
   "metadata": {},
   "outputs": [
    {
     "data": {
      "text/plain": [
       "Unnamed: 0.1           0\n",
       "Unnamed: 0             0\n",
       "2026 Rank              0\n",
       "Previous Rank          0\n",
       "Institution Name       0\n",
       "Country/Territory      0\n",
       "Region                 0\n",
       "Size                   0\n",
       "Focus                  0\n",
       "Research               1\n",
       "Status                 2\n",
       "AR SCORE               0\n",
       "AR RANK                0\n",
       "ER SCORE               0\n",
       "ER RANK                0\n",
       "FSR SCORE              0\n",
       "FSR RANK               0\n",
       "CPF SCORE              0\n",
       "CPF RANK               0\n",
       "IFR SCORE             87\n",
       "IFR RANK               0\n",
       "ISR SCORE             37\n",
       "ISR RANK               0\n",
       "ISD SCORE             37\n",
       "ISD RANK               0\n",
       "IRN SCORE              2\n",
       "IRN RANK               0\n",
       "EO SCORE               0\n",
       "EO RANK                0\n",
       "SUS SCORE             24\n",
       "SUS RANK               0\n",
       "Overall SCORE        798\n",
       "dtype: int64"
      ]
     },
     "execution_count": 7,
     "metadata": {},
     "output_type": "execute_result"
    }
   ],
   "source": [
    "# Check for missing values\n",
    "\n",
    "df_2026_ranking.isnull().sum()"
   ]
  },
  {
   "cell_type": "code",
   "execution_count": 8,
   "id": "b47caf82-e19c-46d4-9cd6-3d73668440f9",
   "metadata": {},
   "outputs": [
    {
     "name": "stderr",
     "output_type": "stream",
     "text": [
      "C:\\Users\\andd0\\AppData\\Local\\Temp\\ipykernel_3576\\2484820130.py:3: FutureWarning: A value is trying to be set on a copy of a DataFrame or Series through chained assignment using an inplace method.\n",
      "The behavior will change in pandas 3.0. This inplace method will never work because the intermediate object on which we are setting values always behaves as a copy.\n",
      "\n",
      "For example, when doing 'df[col].method(value, inplace=True)', try using 'df.method({col: value}, inplace=True)' or df[col] = df[col].method(value) instead, to perform the operation inplace on the original object.\n",
      "\n",
      "\n",
      "  df_2026_ranking['Research'].fillna('N/A', inplace=True)\n"
     ]
    }
   ],
   "source": [
    "# Handling Research and Status\n",
    "\n",
    "df_2026_ranking['Research'].fillna('N/A', inplace=True)"
   ]
  },
  {
   "cell_type": "code",
   "execution_count": 9,
   "id": "d655d109-270d-49a7-9497-7d1caf1ae5f8",
   "metadata": {},
   "outputs": [
    {
     "name": "stderr",
     "output_type": "stream",
     "text": [
      "C:\\Users\\andd0\\AppData\\Local\\Temp\\ipykernel_3576\\1285781204.py:1: FutureWarning: A value is trying to be set on a copy of a DataFrame or Series through chained assignment using an inplace method.\n",
      "The behavior will change in pandas 3.0. This inplace method will never work because the intermediate object on which we are setting values always behaves as a copy.\n",
      "\n",
      "For example, when doing 'df[col].method(value, inplace=True)', try using 'df.method({col: value}, inplace=True)' or df[col] = df[col].method(value) instead, to perform the operation inplace on the original object.\n",
      "\n",
      "\n",
      "  df_2026_ranking['Status'].fillna('N/A', inplace=True)\n"
     ]
    }
   ],
   "source": [
    "df_2026_ranking['Status'].fillna('N/A', inplace=True)"
   ]
  },
  {
   "cell_type": "code",
   "execution_count": 10,
   "id": "f5703c43-d390-4516-9bae-45e246710cac",
   "metadata": {},
   "outputs": [
    {
     "data": {
      "text/plain": [
       "Unnamed: 0.1           0\n",
       "Unnamed: 0             0\n",
       "2026 Rank              0\n",
       "Previous Rank          0\n",
       "Institution Name       0\n",
       "Country/Territory      0\n",
       "Region                 0\n",
       "Size                   0\n",
       "Focus                  0\n",
       "Research               0\n",
       "Status                 0\n",
       "AR SCORE               0\n",
       "AR RANK                0\n",
       "ER SCORE               0\n",
       "ER RANK                0\n",
       "FSR SCORE              0\n",
       "FSR RANK               0\n",
       "CPF SCORE              0\n",
       "CPF RANK               0\n",
       "IFR SCORE             87\n",
       "IFR RANK               0\n",
       "ISR SCORE             37\n",
       "ISR RANK               0\n",
       "ISD SCORE             37\n",
       "ISD RANK               0\n",
       "IRN SCORE              2\n",
       "IRN RANK               0\n",
       "EO SCORE               0\n",
       "EO RANK                0\n",
       "SUS SCORE             24\n",
       "SUS RANK               0\n",
       "Overall SCORE        798\n",
       "dtype: int64"
      ]
     },
     "execution_count": 10,
     "metadata": {},
     "output_type": "execute_result"
    }
   ],
   "source": [
    "# Check for missing values again\n",
    "\n",
    "df_2026_ranking.isnull().sum()"
   ]
  },
  {
   "cell_type": "markdown",
   "id": "8d1c5a7b-ac2b-4978-9855-de9e239e7d0b",
   "metadata": {},
   "source": [
    "##### **Duplicates**"
   ]
  },
  {
   "cell_type": "code",
   "execution_count": 11,
   "id": "15cfd522-d396-44e9-bd55-90587a5461d2",
   "metadata": {},
   "outputs": [],
   "source": [
    "dups = df_2026_ranking.duplicated()"
   ]
  },
  {
   "cell_type": "code",
   "execution_count": 12,
   "id": "5c3bb9d7-45af-4b48-bdaa-e646430cef7b",
   "metadata": {},
   "outputs": [
    {
     "data": {
      "text/plain": [
       "(1501,)"
      ]
     },
     "execution_count": 12,
     "metadata": {},
     "output_type": "execute_result"
    }
   ],
   "source": [
    "dups.shape # No dups"
   ]
  },
  {
   "cell_type": "markdown",
   "id": "deaf93bc-3dfb-4c39-a204-b6a49ace5c57",
   "metadata": {},
   "source": [
    "### **4) Exploring data visually**"
   ]
  },
  {
   "cell_type": "code",
   "execution_count": 13,
   "id": "1902e73f-8723-422d-8364-886dfe32c9a1",
   "metadata": {},
   "outputs": [
    {
     "data": {
      "image/png": "[encoded data removed]",
      "text/plain": [
       "<Figure size 640x480 with 1 Axes>"
      ]
     },
     "metadata": {},
     "output_type": "display_data"
    }
   ],
   "source": [
    "# Create a scatterplot using matplotlib for another look at how the chosen variables plot against each other.\n",
    "\n",
    "df_2026_ranking.plot(x = 'ER SCORE', y='AR SCORE',style='o') # The style option creates a scatterplot; without it, we only have lines.\n",
    "plt.title('Employer Reputation (ER) Score vs Academic Reputation (AR) Score')  \n",
    "plt.xlabel('ER SCORE')  \n",
    "plt.ylabel('AR SCORE')  \n",
    "plt.show()"
   ]
  },
  {
   "cell_type": "markdown",
   "id": "d5f8d592-0c6c-4409-b226-caf3bad72beb",
   "metadata": {},
   "source": [
    "##### **Hypothesis**"
   ]
  },
  {
   "cell_type": "markdown",
   "id": "a6da7617-ae4a-404a-a4d5-bf9bc7f4ac76",
   "metadata": {},
   "source": [
    "*The higher the Employer Reputation (employer feedback), the higher the Academic Reputation (reputation of universities and their programmes)*"
   ]
  },
  {
   "cell_type": "markdown",
   "id": "563230ba-1a87-4bb3-910d-1b2d50967143",
   "metadata": {},
   "source": [
    "##### [More about AR](https://support.qs.com/hc/en-gb/articles/4405952675346-Academic-Reputation-Indicator)\n",
    "\n",
    "##### [More about ER](https://support.qs.com/hc/en-gb/articles/4407794203410-Employer-Reputation-Indicator)"
   ]
  },
  {
   "cell_type": "markdown",
   "id": "5877729c-23a9-4bcf-a746-965640976d8d",
   "metadata": {},
   "source": [
    "### **5) Reshaping variables**"
   ]
  },
  {
   "cell_type": "code",
   "execution_count": 14,
   "id": "8b8a5e3c-3845-445f-95cc-c9b8219906f4",
   "metadata": {},
   "outputs": [],
   "source": [
    "# Reshape the variables into NumPy arrays and put them into separate objects.\n",
    "\n",
    "X = df_2026_ranking['ER SCORE'].values.reshape(-1,1)\n",
    "y = df_2026_ranking['AR SCORE'].values.reshape(-1,1)"
   ]
  },
  {
   "cell_type": "code",
   "execution_count": 15,
   "id": "6f46d442-7b9d-4584-ba27-06f953988b72",
   "metadata": {},
   "outputs": [
    {
     "data": {
      "text/plain": [
       "array([[100. ],\n",
       "       [100. ],\n",
       "       [100. ],\n",
       "       ...,\n",
       "       [  2.7],\n",
       "       [  2.9],\n",
       "       [ 11.9]])"
      ]
     },
     "execution_count": 15,
     "metadata": {},
     "output_type": "execute_result"
    }
   ],
   "source": [
    "X"
   ]
  },
  {
   "cell_type": "code",
   "execution_count": 16,
   "id": "41645ccd-b8fe-4a81-a57f-d654292e96d5",
   "metadata": {},
   "outputs": [
    {
     "data": {
      "text/plain": [
       "array([[100. ],\n",
       "       [ 99.6],\n",
       "       [100. ],\n",
       "       ...,\n",
       "       [  8.3],\n",
       "       [  4.4],\n",
       "       [  6.5]])"
      ]
     },
     "execution_count": 16,
     "metadata": {},
     "output_type": "execute_result"
    }
   ],
   "source": [
    "y"
   ]
  },
  {
   "cell_type": "markdown",
   "id": "27cb11d8-3cd3-479e-a17f-0ee158e2917b",
   "metadata": {},
   "source": [
    "### **6) Splitting data into training and test sets**"
   ]
  },
  {
   "cell_type": "code",
   "execution_count": 17,
   "id": "0df4929f-6740-4549-b6db-9a33a61fcb17",
   "metadata": {},
   "outputs": [],
   "source": [
    "# Split data into a training set and a test set.\n",
    "\n",
    "X_train, X_test, y_train, y_test = train_test_split(X, y, test_size=0.3, random_state=0)"
   ]
  },
  {
   "cell_type": "markdown",
   "id": "e941298b-4114-443b-9e9c-ef46f0d1a420",
   "metadata": {},
   "source": [
    "### **7) Linear regression**"
   ]
  },
  {
   "cell_type": "code",
   "execution_count": 18,
   "id": "ee05f57f-b923-4938-bd0d-3915aeb209a6",
   "metadata": {},
   "outputs": [],
   "source": [
    "# Create a regression object.\n",
    "\n",
    "regression = LinearRegression()  # This is the regression object, which will be fit onto the training set."
   ]
  },
  {
   "cell_type": "code",
   "execution_count": 19,
   "id": "8328dc25-5839-4c01-b483-75934f380cf7",
   "metadata": {},
   "outputs": [
    {
     "data": {
      "text/html": [
       "<style>#sk-container-id-1 {\n",
       "  /* Definition of color scheme common for light and dark mode */\n",
       "  --sklearn-color-text: black;\n",
       "  --sklearn-color-line: gray;\n",
       "  /* Definition of color scheme for unfitted estimators */\n",
       "  --sklearn-color-unfitted-level-0: #fff5e6;\n",
       "  --sklearn-color-unfitted-level-1: #f6e4d2;\n",
       "  --sklearn-color-unfitted-level-2: #ffe0b3;\n",
       "  --sklearn-color-unfitted-level-3: chocolate;\n",
       "  /* Definition of color scheme for fitted estimators */\n",
       "  --sklearn-color-fitted-level-0: #f0f8ff;\n",
       "  --sklearn-color-fitted-level-1: #d4ebff;\n",
       "  --sklearn-color-fitted-level-2: #b3dbfd;\n",
       "  --sklearn-color-fitted-level-3: cornflowerblue;\n",
       "\n",
       "  /* Specific color for light theme */\n",
       "  --sklearn-color-text-on-default-background: var(--sg-text-color, var(--theme-code-foreground, var(--jp-content-font-color1, black)));\n",
       "  --sklearn-color-background: var(--sg-background-color, var(--theme-background, var(--jp-layout-color0, white)));\n",
       "  --sklearn-color-border-box: var(--sg-text-color, var(--theme-code-foreground, var(--jp-content-font-color1, black)));\n",
       "  --sklearn-color-icon: #696969;\n",
       "\n",
       "  @media (prefers-color-scheme: dark) {\n",
       "    /* Redefinition of color scheme for dark theme */\n",
       "    --sklearn-color-text-on-default-background: var(--sg-text-color, var(--theme-code-foreground, var(--jp-content-font-color1, white)));\n",
       "    --sklearn-color-background: var(--sg-background-color, var(--theme-background, var(--jp-layout-color0, #111)));\n",
       "    --sklearn-color-border-box: var(--sg-text-color, var(--theme-code-foreground, var(--jp-content-font-color1, white)));\n",
       "    --sklearn-color-icon: #878787;\n",
       "  }\n",
       "}\n",
       "\n",
       "#sk-container-id-1 {\n",
       "  color: var(--sklearn-color-text);\n",
       "}\n",
       "\n",
       "#sk-container-id-1 pre {\n",
       "  padding: 0;\n",
       "}\n",
       "\n",
       "#sk-container-id-1 input.sk-hidden--visually {\n",
       "  border: 0;\n",
       "  clip: rect(1px 1px 1px 1px);\n",
       "  clip: rect(1px, 1px, 1px, 1px);\n",
       "  height: 1px;\n",
       "  margin: -1px;\n",
       "  overflow: hidden;\n",
       "  padding: 0;\n",
       "  position: absolute;\n",
       "  width: 1px;\n",
       "}\n",
       "\n",
       "#sk-container-id-1 div.sk-dashed-wrapped {\n",
       "  border: 1px dashed var(--sklearn-color-line);\n",
       "  margin: 0 0.4em 0.5em 0.4em;\n",
       "  box-sizing: border-box;\n",
       "  padding-bottom: 0.4em;\n",
       "  background-color: var(--sklearn-color-background);\n",
       "}\n",
       "\n",
       "#sk-container-id-1 div.sk-container {\n",
       "  /* jupyter's `normalize.less` sets `[hidden] { display: none; }`\n",
       "     but bootstrap.min.css set `[hidden] { display: none !important; }`\n",
       "     so we also need the `!important` here to be able to override the\n",
       "     default hidden behavior on the sphinx rendered scikit-learn.org.\n",
       "     See: https://github.com/scikit-learn/scikit-learn/issues/21755 */\n",
       "  display: inline-block !important;\n",
       "  position: relative;\n",
       "}\n",
       "\n",
       "#sk-container-id-1 div.sk-text-repr-fallback {\n",
       "  display: none;\n",
       "}\n",
       "\n",
       "div.sk-parallel-item,\n",
       "div.sk-serial,\n",
       "div.sk-item {\n",
       "  /* draw centered vertical line to link estimators */\n",
       "  background-image: linear-gradient(var(--sklearn-color-text-on-default-background), var(--sklearn-color-text-on-default-background));\n",
       "  background-size: 2px 100%;\n",
       "  background-repeat: no-repeat;\n",
       "  background-position: center center;\n",
       "}\n",
       "\n",
       "/* Parallel-specific style estimator block */\n",
       "\n",
       "#sk-container-id-1 div.sk-parallel-item::after {\n",
       "  content: \"\";\n",
       "  width: 100%;\n",
       "  border-bottom: 2px solid var(--sklearn-color-text-on-default-background);\n",
       "  flex-grow: 1;\n",
       "}\n",
       "\n",
       "#sk-container-id-1 div.sk-parallel {\n",
       "  display: flex;\n",
       "  align-items: stretch;\n",
       "  justify-content: center;\n",
       "  background-color: var(--sklearn-color-background);\n",
       "  position: relative;\n",
       "}\n",
       "\n",
       "#sk-container-id-1 div.sk-parallel-item {\n",
       "  display: flex;\n",
       "  flex-direction: column;\n",
       "}\n",
       "\n",
       "#sk-container-id-1 div.sk-parallel-item:first-child::after {\n",
       "  align-self: flex-end;\n",
       "  width: 50%;\n",
       "}\n",
       "\n",
       "#sk-container-id-1 div.sk-parallel-item:last-child::after {\n",
       "  align-self: flex-start;\n",
       "  width: 50%;\n",
       "}\n",
       "\n",
       "#sk-container-id-1 div.sk-parallel-item:only-child::after {\n",
       "  width: 0;\n",
       "}\n",
       "\n",
       "/* Serial-specific style estimator block */\n",
       "\n",
       "#sk-container-id-1 div.sk-serial {\n",
       "  display: flex;\n",
       "  flex-direction: column;\n",
       "  align-items: center;\n",
       "  background-color: var(--sklearn-color-background);\n",
       "  padding-right: 1em;\n",
       "  padding-left: 1em;\n",
       "}\n",
       "\n",
       "\n",
       "/* Toggleable style: style used for estimator/Pipeline/ColumnTransformer box that is\n",
       "clickable and can be expanded/collapsed.\n",
       "- Pipeline and ColumnTransformer use this feature and define the default style\n",
       "- Estimators will overwrite some part of the style using the `sk-estimator` class\n",
       "*/\n",
       "\n",
       "/* Pipeline and ColumnTransformer style (default) */\n",
       "\n",
       "#sk-container-id-1 div.sk-toggleable {\n",
       "  /* Default theme specific background. It is overwritten whether we have a\n",
       "  specific estimator or a Pipeline/ColumnTransformer */\n",
       "  background-color: var(--sklearn-color-background);\n",
       "}\n",
       "\n",
       "/* Toggleable label */\n",
       "#sk-container-id-1 label.sk-toggleable__label {\n",
       "  cursor: pointer;\n",
       "  display: block;\n",
       "  width: 100%;\n",
       "  margin-bottom: 0;\n",
       "  padding: 0.5em;\n",
       "  box-sizing: border-box;\n",
       "  text-align: center;\n",
       "}\n",
       "\n",
       "#sk-container-id-1 label.sk-toggleable__label-arrow:before {\n",
       "  /* Arrow on the left of the label */\n",
       "  content: \"▸\";\n",
       "  float: left;\n",
       "  margin-right: 0.25em;\n",
       "  color: var(--sklearn-color-icon);\n",
       "}\n",
       "\n",
       "#sk-container-id-1 label.sk-toggleable__label-arrow:hover:before {\n",
       "  color: var(--sklearn-color-text);\n",
       "}\n",
       "\n",
       "/* Toggleable content - dropdown */\n",
       "\n",
       "#sk-container-id-1 div.sk-toggleable__content {\n",
       "  max-height: 0;\n",
       "  max-width: 0;\n",
       "  overflow: hidden;\n",
       "  text-align: left;\n",
       "  /* unfitted */\n",
       "  background-color: var(--sklearn-color-unfitted-level-0);\n",
       "}\n",
       "\n",
       "#sk-container-id-1 div.sk-toggleable__content.fitted {\n",
       "  /* fitted */\n",
       "  background-color: var(--sklearn-color-fitted-level-0);\n",
       "}\n",
       "\n",
       "#sk-container-id-1 div.sk-toggleable__content pre {\n",
       "  margin: 0.2em;\n",
       "  border-radius: 0.25em;\n",
       "  color: var(--sklearn-color-text);\n",
       "  /* unfitted */\n",
       "  background-color: var(--sklearn-color-unfitted-level-0);\n",
       "}\n",
       "\n",
       "#sk-container-id-1 div.sk-toggleable__content.fitted pre {\n",
       "  /* unfitted */\n",
       "  background-color: var(--sklearn-color-fitted-level-0);\n",
       "}\n",
       "\n",
       "#sk-container-id-1 input.sk-toggleable__control:checked~div.sk-toggleable__content {\n",
       "  /* Expand drop-down */\n",
       "  max-height: 200px;\n",
       "  max-width: 100%;\n",
       "  overflow: auto;\n",
       "}\n",
       "\n",
       "#sk-container-id-1 input.sk-toggleable__control:checked~label.sk-toggleable__label-arrow:before {\n",
       "  content: \"▾\";\n",
       "}\n",
       "\n",
       "/* Pipeline/ColumnTransformer-specific style */\n",
       "\n",
       "#sk-container-id-1 div.sk-label input.sk-toggleable__control:checked~label.sk-toggleable__label {\n",
       "  color: var(--sklearn-color-text);\n",
       "  background-color: var(--sklearn-color-unfitted-level-2);\n",
       "}\n",
       "\n",
       "#sk-container-id-1 div.sk-label.fitted input.sk-toggleable__control:checked~label.sk-toggleable__label {\n",
       "  background-color: var(--sklearn-color-fitted-level-2);\n",
       "}\n",
       "\n",
       "/* Estimator-specific style */\n",
       "\n",
       "/* Colorize estimator box */\n",
       "#sk-container-id-1 div.sk-estimator input.sk-toggleable__control:checked~label.sk-toggleable__label {\n",
       "  /* unfitted */\n",
       "  background-color: var(--sklearn-color-unfitted-level-2);\n",
       "}\n",
       "\n",
       "#sk-container-id-1 div.sk-estimator.fitted input.sk-toggleable__control:checked~label.sk-toggleable__label {\n",
       "  /* fitted */\n",
       "  background-color: var(--sklearn-color-fitted-level-2);\n",
       "}\n",
       "\n",
       "#sk-container-id-1 div.sk-label label.sk-toggleable__label,\n",
       "#sk-container-id-1 div.sk-label label {\n",
       "  /* The background is the default theme color */\n",
       "  color: var(--sklearn-color-text-on-default-background);\n",
       "}\n",
       "\n",
       "/* On hover, darken the color of the background */\n",
       "#sk-container-id-1 div.sk-label:hover label.sk-toggleable__label {\n",
       "  color: var(--sklearn-color-text);\n",
       "  background-color: var(--sklearn-color-unfitted-level-2);\n",
       "}\n",
       "\n",
       "/* Label box, darken color on hover, fitted */\n",
       "#sk-container-id-1 div.sk-label.fitted:hover label.sk-toggleable__label.fitted {\n",
       "  color: var(--sklearn-color-text);\n",
       "  background-color: var(--sklearn-color-fitted-level-2);\n",
       "}\n",
       "\n",
       "/* Estimator label */\n",
       "\n",
       "#sk-container-id-1 div.sk-label label {\n",
       "  font-family: monospace;\n",
       "  font-weight: bold;\n",
       "  display: inline-block;\n",
       "  line-height: 1.2em;\n",
       "}\n",
       "\n",
       "#sk-container-id-1 div.sk-label-container {\n",
       "  text-align: center;\n",
       "}\n",
       "\n",
       "/* Estimator-specific */\n",
       "#sk-container-id-1 div.sk-estimator {\n",
       "  font-family: monospace;\n",
       "  border: 1px dotted var(--sklearn-color-border-box);\n",
       "  border-radius: 0.25em;\n",
       "  box-sizing: border-box;\n",
       "  margin-bottom: 0.5em;\n",
       "  /* unfitted */\n",
       "  background-color: var(--sklearn-color-unfitted-level-0);\n",
       "}\n",
       "\n",
       "#sk-container-id-1 div.sk-estimator.fitted {\n",
       "  /* fitted */\n",
       "  background-color: var(--sklearn-color-fitted-level-0);\n",
       "}\n",
       "\n",
       "/* on hover */\n",
       "#sk-container-id-1 div.sk-estimator:hover {\n",
       "  /* unfitted */\n",
       "  background-color: var(--sklearn-color-unfitted-level-2);\n",
       "}\n",
       "\n",
       "#sk-container-id-1 div.sk-estimator.fitted:hover {\n",
       "  /* fitted */\n",
       "  background-color: var(--sklearn-color-fitted-level-2);\n",
       "}\n",
       "\n",
       "/* Specification for estimator info (e.g. \"i\" and \"?\") */\n",
       "\n",
       "/* Common style for \"i\" and \"?\" */\n",
       "\n",
       ".sk-estimator-doc-link,\n",
       "a:link.sk-estimator-doc-link,\n",
       "a:visited.sk-estimator-doc-link {\n",
       "  float: right;\n",
       "  font-size: smaller;\n",
       "  line-height: 1em;\n",
       "  font-family: monospace;\n",
       "  background-color: var(--sklearn-color-background);\n",
       "  border-radius: 1em;\n",
       "  height: 1em;\n",
       "  width: 1em;\n",
       "  text-decoration: none !important;\n",
       "  margin-left: 1ex;\n",
       "  /* unfitted */\n",
       "  border: var(--sklearn-color-unfitted-level-1) 1pt solid;\n",
       "  color: var(--sklearn-color-unfitted-level-1);\n",
       "}\n",
       "\n",
       ".sk-estimator-doc-link.fitted,\n",
       "a:link.sk-estimator-doc-link.fitted,\n",
       "a:visited.sk-estimator-doc-link.fitted {\n",
       "  /* fitted */\n",
       "  border: var(--sklearn-color-fitted-level-1) 1pt solid;\n",
       "  color: var(--sklearn-color-fitted-level-1);\n",
       "}\n",
       "\n",
       "/* On hover */\n",
       "div.sk-estimator:hover .sk-estimator-doc-link:hover,\n",
       ".sk-estimator-doc-link:hover,\n",
       "div.sk-label-container:hover .sk-estimator-doc-link:hover,\n",
       ".sk-estimator-doc-link:hover {\n",
       "  /* unfitted */\n",
       "  background-color: var(--sklearn-color-unfitted-level-3);\n",
       "  color: var(--sklearn-color-background);\n",
       "  text-decoration: none;\n",
       "}\n",
       "\n",
       "div.sk-estimator.fitted:hover .sk-estimator-doc-link.fitted:hover,\n",
       ".sk-estimator-doc-link.fitted:hover,\n",
       "div.sk-label-container:hover .sk-estimator-doc-link.fitted:hover,\n",
       ".sk-estimator-doc-link.fitted:hover {\n",
       "  /* fitted */\n",
       "  background-color: var(--sklearn-color-fitted-level-3);\n",
       "  color: var(--sklearn-color-background);\n",
       "  text-decoration: none;\n",
       "}\n",
       "\n",
       "/* Span, style for the box shown on hovering the info icon */\n",
       ".sk-estimator-doc-link span {\n",
       "  display: none;\n",
       "  z-index: 9999;\n",
       "  position: relative;\n",
       "  font-weight: normal;\n",
       "  right: .2ex;\n",
       "  padding: .5ex;\n",
       "  margin: .5ex;\n",
       "  width: min-content;\n",
       "  min-width: 20ex;\n",
       "  max-width: 50ex;\n",
       "  color: var(--sklearn-color-text);\n",
       "  box-shadow: 2pt 2pt 4pt #999;\n",
       "  /* unfitted */\n",
       "  background: var(--sklearn-color-unfitted-level-0);\n",
       "  border: .5pt solid var(--sklearn-color-unfitted-level-3);\n",
       "}\n",
       "\n",
       ".sk-estimator-doc-link.fitted span {\n",
       "  /* fitted */\n",
       "  background: var(--sklearn-color-fitted-level-0);\n",
       "  border: var(--sklearn-color-fitted-level-3);\n",
       "}\n",
       "\n",
       ".sk-estimator-doc-link:hover span {\n",
       "  display: block;\n",
       "}\n",
       "\n",
       "/* \"?\"-specific style due to the `<a>` HTML tag */\n",
       "\n",
       "#sk-container-id-1 a.estimator_doc_link {\n",
       "  float: right;\n",
       "  font-size: 1rem;\n",
       "  line-height: 1em;\n",
       "  font-family: monospace;\n",
       "  background-color: var(--sklearn-color-background);\n",
       "  border-radius: 1rem;\n",
       "  height: 1rem;\n",
       "  width: 1rem;\n",
       "  text-decoration: none;\n",
       "  /* unfitted */\n",
       "  color: var(--sklearn-color-unfitted-level-1);\n",
       "  border: var(--sklearn-color-unfitted-level-1) 1pt solid;\n",
       "}\n",
       "\n",
       "#sk-container-id-1 a.estimator_doc_link.fitted {\n",
       "  /* fitted */\n",
       "  border: var(--sklearn-color-fitted-level-1) 1pt solid;\n",
       "  color: var(--sklearn-color-fitted-level-1);\n",
       "}\n",
       "\n",
       "/* On hover */\n",
       "#sk-container-id-1 a.estimator_doc_link:hover {\n",
       "  /* unfitted */\n",
       "  background-color: var(--sklearn-color-unfitted-level-3);\n",
       "  color: var(--sklearn-color-background);\n",
       "  text-decoration: none;\n",
       "}\n",
       "\n",
       "#sk-container-id-1 a.estimator_doc_link.fitted:hover {\n",
       "  /* fitted */\n",
       "  background-color: var(--sklearn-color-fitted-level-3);\n",
       "}\n",
       "</style><div id=\"sk-container-id-1\" class=\"sk-top-container\"><div class=\"sk-text-repr-fallback\"><pre>LinearRegression()</pre><b>In a Jupyter environment, please rerun this cell to show the HTML representation or trust the notebook. <br />On GitHub, the HTML representation is unable to render, please try loading this page with nbviewer.org.</b></div><div class=\"sk-container\" hidden><div class=\"sk-item\"><div class=\"sk-estimator fitted sk-toggleable\"><input class=\"sk-toggleable__control sk-hidden--visually\" id=\"sk-estimator-id-1\" type=\"checkbox\" checked><label for=\"sk-estimator-id-1\" class=\"sk-toggleable__label fitted sk-toggleable__label-arrow fitted\">&nbsp;&nbsp;LinearRegression<a class=\"sk-estimator-doc-link fitted\" rel=\"noreferrer\" target=\"_blank\" href=\"https://scikit-learn.org/1.5/modules/generated/sklearn.linear_model.LinearRegression.html\">?<span>Documentation for LinearRegression</span></a><span class=\"sk-estimator-doc-link fitted\">i<span>Fitted</span></span></label><div class=\"sk-toggleable__content fitted\"><pre>LinearRegression()</pre></div> </div></div></div></div>"
      ],
      "text/plain": [
       "LinearRegression()"
      ]
     },
     "execution_count": 19,
     "metadata": {},
     "output_type": "execute_result"
    }
   ],
   "source": [
    "# Fit the regression object onto the training set.\n",
    "\n",
    "regression.fit(X_train, y_train)"
   ]
  },
  {
   "cell_type": "code",
   "execution_count": 20,
   "id": "97eb5637-17fc-44dd-a037-e41e2a819ac0",
   "metadata": {},
   "outputs": [],
   "source": [
    "# Predict the values of y using X.\n",
    "\n",
    "y_predicted = regression.predict(X_test)"
   ]
  },
  {
   "cell_type": "code",
   "execution_count": 21,
   "id": "f5d93952-e1c3-439d-a5d0-c3b585214694",
   "metadata": {},
   "outputs": [
    {
     "data": {
      "image/png": "[encoded data removed]",
      "text/plain": [
       "<Figure size 640x480 with 1 Axes>"
      ]
     },
     "metadata": {},
     "output_type": "display_data"
    }
   ],
   "source": [
    "# Create a plot that shows the regression line from the model on the test set.\n",
    "\n",
    "plot_test = plt\n",
    "plot_test.scatter(X_test, y_test, color='gray', s = 15)\n",
    "plot_test.plot(X_test, y_predicted, color='red', linewidth =3)\n",
    "plot_test.title('ER Score vs AR Score (Test set)')\n",
    "plot_test.xlabel('Employer reputation')\n",
    "plot_test.ylabel('Academic reputation')\n",
    "plot_test.show()"
   ]
  },
  {
   "cell_type": "markdown",
   "id": "eeb75226-4c0c-448a-8c35-174d7ba343f0",
   "metadata": {},
   "source": [
    "### **8) Interpretation**"
   ]
  },
  {
   "cell_type": "code",
   "execution_count": 22,
   "id": "3e939d21-da9e-4e7a-a5e7-b6becd402435",
   "metadata": {},
   "outputs": [],
   "source": [
    "# Create objects that contain the model summary statistics.\n",
    "\n",
    "rmse = mean_squared_error(y_test, y_predicted) # This is the mean squared error\n",
    "r2 = r2_score(y_test, y_predicted) # This is the R2 score. "
   ]
  },
  {
   "cell_type": "code",
   "execution_count": 23,
   "id": "a9f22b45-ab3e-4c5d-a94d-5cc95c68ed20",
   "metadata": {},
   "outputs": [
    {
     "name": "stdout",
     "output_type": "stream",
     "text": [
      "Slope: [[0.83444272]]\n",
      "Mean squared error:  165.63071461925054\n",
      "R2 score:  0.7373258703009452\n"
     ]
    }
   ],
   "source": [
    "# Print the model summary statistics. This is where you evaluate the performance of the model.\n",
    "\n",
    "print('Slope:' ,regression.coef_)\n",
    "print('Mean squared error: ', rmse)\n",
    "print('R2 score: ', r2)"
   ]
  },
  {
   "cell_type": "markdown",
   "id": "740711b7-ba98-45a0-8d0a-08e31ee048e8",
   "metadata": {},
   "source": [
    "| Summary Stat Name | Meaning |\n",
    "|-------------------|---------|\n",
    "| Slope             | Tells how the y variable changes when X changes |\n",
    "| MSE               | Tells how close a regression line is to a set of points (i.e., its accuracy). The larger the distance, the farther away the regression line is from the data points, indicating that the regression line isn’t an accurate representation of the data. |\n",
    "| R²                | Tells how well the model explains the variance in the data. Values closer to 0 indicate a poor fit, and values closer to 1 indicate a good fit. |"
   ]
  },
  {
   "cell_type": "markdown",
   "id": "7af9eb62-f1e4-4803-8376-b6157ac3782d",
   "metadata": {},
   "source": [
    "##### **How well the line appears to fit the data in a markdown cell?**"
   ]
  },
  {
   "cell_type": "markdown",
   "id": "97f27c76-7d8e-4a33-ba57-a5ae839cb7c5",
   "metadata": {},
   "source": [
    "##### The upward slope shows a positive relationship between Employer Reputation (independent variable) and Academic Reputation (dependent variable). \n",
    "\n",
    "##### Still, I can see noticeable scattering, meaning that, while the model correctly captures the overall trend, it is not accurate at predicting individual cases."
   ]
  },
  {
   "cell_type": "markdown",
   "id": "5370fb1b-a80b-43eb-8aca-04d4de6e8e51",
   "metadata": {},
   "source": [
    "##### **Check the model performance statistics—MSE and R2 score.**"
   ]
  },
  {
   "cell_type": "markdown",
   "id": "69336010-43b5-45f2-a949-06cb8d4b3c51",
   "metadata": {},
   "source": [
    "##### **MSE**\n",
    "\n",
    "##### MSE = 165.63. \n",
    "##### AR Score avg = 25.78.\n",
    "\n",
    "##### To interpret the MSE in the same unites as the AR, I will take the square root of 165.63, which is 12.87.\n",
    "\n",
    "##### 12.87 is 49.9% of the AR Score mean. \n",
    "\n",
    "##### In other words, if Academic Reputation scores were like exam grades, the model is typically off by about 13 points (12.87) — so if it predicts a score of 80, the real score might be closer to 67 or 93.\n",
    "\n",
    "##### Therefore, the MSE is relatively large.\n",
    "\n",
    "##### **R2 Score**\n",
    "\n",
    "##### R2 = 0.73\n",
    "\n",
    "##### The model explains 73% of the variance in the AR Score based on the Employer Reputation.\n",
    "\n",
    "##### The Employer Reputation of a university gives us a pretty good idea of its Academic Reputation. "
   ]
  },
  {
   "cell_type": "markdown",
   "id": "a235891a-9b1d-49a5-8754-5c2de25560b2",
   "metadata": {},
   "source": [
    "### **9) Comparison: Predicted 'y' values vs Actual 'y' values**"
   ]
  },
  {
   "cell_type": "code",
   "execution_count": 24,
   "id": "0517f0f5-35dd-4f00-b4c4-30c546d887f6",
   "metadata": {},
   "outputs": [
    {
     "data": {
      "text/html": [
       "<div>\n",
       "<style scoped>\n",
       "    .dataframe tbody tr th:only-of-type {\n",
       "        vertical-align: middle;\n",
       "    }\n",
       "\n",
       "    .dataframe tbody tr th {\n",
       "        vertical-align: top;\n",
       "    }\n",
       "\n",
       "    .dataframe thead th {\n",
       "        text-align: right;\n",
       "    }\n",
       "</style>\n",
       "<table border=\"1\" class=\"dataframe\">\n",
       "  <thead>\n",
       "    <tr style=\"text-align: right;\">\n",
       "      <th></th>\n",
       "      <th>Actual</th>\n",
       "      <th>Predicted</th>\n",
       "    </tr>\n",
       "  </thead>\n",
       "  <tbody>\n",
       "    <tr>\n",
       "      <th>0</th>\n",
       "      <td>52.7</td>\n",
       "      <td>20.695725</td>\n",
       "    </tr>\n",
       "    <tr>\n",
       "      <th>1</th>\n",
       "      <td>98.3</td>\n",
       "      <td>86.282922</td>\n",
       "    </tr>\n",
       "    <tr>\n",
       "      <th>2</th>\n",
       "      <td>6.5</td>\n",
       "      <td>13.436073</td>\n",
       "    </tr>\n",
       "    <tr>\n",
       "      <th>3</th>\n",
       "      <td>98.6</td>\n",
       "      <td>86.867032</td>\n",
       "    </tr>\n",
       "    <tr>\n",
       "      <th>4</th>\n",
       "      <td>7.0</td>\n",
       "      <td>10.265191</td>\n",
       "    </tr>\n",
       "    <tr>\n",
       "      <th>5</th>\n",
       "      <td>3.5</td>\n",
       "      <td>4.841313</td>\n",
       "    </tr>\n",
       "    <tr>\n",
       "      <th>6</th>\n",
       "      <td>19.9</td>\n",
       "      <td>9.764525</td>\n",
       "    </tr>\n",
       "    <tr>\n",
       "      <th>7</th>\n",
       "      <td>67.0</td>\n",
       "      <td>67.841738</td>\n",
       "    </tr>\n",
       "    <tr>\n",
       "      <th>8</th>\n",
       "      <td>48.8</td>\n",
       "      <td>32.461367</td>\n",
       "    </tr>\n",
       "    <tr>\n",
       "      <th>9</th>\n",
       "      <td>6.3</td>\n",
       "      <td>20.862614</td>\n",
       "    </tr>\n",
       "    <tr>\n",
       "      <th>10</th>\n",
       "      <td>4.7</td>\n",
       "      <td>5.926089</td>\n",
       "    </tr>\n",
       "    <tr>\n",
       "      <th>11</th>\n",
       "      <td>7.5</td>\n",
       "      <td>11.934077</td>\n",
       "    </tr>\n",
       "    <tr>\n",
       "      <th>12</th>\n",
       "      <td>11.3</td>\n",
       "      <td>7.511530</td>\n",
       "    </tr>\n",
       "    <tr>\n",
       "      <th>13</th>\n",
       "      <td>78.5</td>\n",
       "      <td>65.171522</td>\n",
       "    </tr>\n",
       "    <tr>\n",
       "      <th>14</th>\n",
       "      <td>21.3</td>\n",
       "      <td>12.685075</td>\n",
       "    </tr>\n",
       "    <tr>\n",
       "      <th>15</th>\n",
       "      <td>18.5</td>\n",
       "      <td>33.128922</td>\n",
       "    </tr>\n",
       "    <tr>\n",
       "      <th>16</th>\n",
       "      <td>7.7</td>\n",
       "      <td>11.099634</td>\n",
       "    </tr>\n",
       "    <tr>\n",
       "      <th>17</th>\n",
       "      <td>5.0</td>\n",
       "      <td>13.853295</td>\n",
       "    </tr>\n",
       "    <tr>\n",
       "      <th>18</th>\n",
       "      <td>50.6</td>\n",
       "      <td>62.835082</td>\n",
       "    </tr>\n",
       "    <tr>\n",
       "      <th>19</th>\n",
       "      <td>8.5</td>\n",
       "      <td>8.846638</td>\n",
       "    </tr>\n",
       "    <tr>\n",
       "      <th>20</th>\n",
       "      <td>46.3</td>\n",
       "      <td>36.299804</td>\n",
       "    </tr>\n",
       "    <tr>\n",
       "      <th>21</th>\n",
       "      <td>19.2</td>\n",
       "      <td>20.195059</td>\n",
       "    </tr>\n",
       "    <tr>\n",
       "      <th>22</th>\n",
       "      <td>86.1</td>\n",
       "      <td>75.101390</td>\n",
       "    </tr>\n",
       "    <tr>\n",
       "      <th>23</th>\n",
       "      <td>17.5</td>\n",
       "      <td>64.003302</td>\n",
       "    </tr>\n",
       "    <tr>\n",
       "      <th>24</th>\n",
       "      <td>7.8</td>\n",
       "      <td>10.849301</td>\n",
       "    </tr>\n",
       "    <tr>\n",
       "      <th>25</th>\n",
       "      <td>26.1</td>\n",
       "      <td>10.432080</td>\n",
       "    </tr>\n",
       "    <tr>\n",
       "      <th>26</th>\n",
       "      <td>7.7</td>\n",
       "      <td>6.259866</td>\n",
       "    </tr>\n",
       "    <tr>\n",
       "      <th>27</th>\n",
       "      <td>20.2</td>\n",
       "      <td>40.722350</td>\n",
       "    </tr>\n",
       "    <tr>\n",
       "      <th>28</th>\n",
       "      <td>20.8</td>\n",
       "      <td>16.106290</td>\n",
       "    </tr>\n",
       "    <tr>\n",
       "      <th>29</th>\n",
       "      <td>9.2</td>\n",
       "      <td>7.177753</td>\n",
       "    </tr>\n",
       "  </tbody>\n",
       "</table>\n",
       "</div>"
      ],
      "text/plain": [
       "    Actual  Predicted\n",
       "0     52.7  20.695725\n",
       "1     98.3  86.282922\n",
       "2      6.5  13.436073\n",
       "3     98.6  86.867032\n",
       "4      7.0  10.265191\n",
       "5      3.5   4.841313\n",
       "6     19.9   9.764525\n",
       "7     67.0  67.841738\n",
       "8     48.8  32.461367\n",
       "9      6.3  20.862614\n",
       "10     4.7   5.926089\n",
       "11     7.5  11.934077\n",
       "12    11.3   7.511530\n",
       "13    78.5  65.171522\n",
       "14    21.3  12.685075\n",
       "15    18.5  33.128922\n",
       "16     7.7  11.099634\n",
       "17     5.0  13.853295\n",
       "18    50.6  62.835082\n",
       "19     8.5   8.846638\n",
       "20    46.3  36.299804\n",
       "21    19.2  20.195059\n",
       "22    86.1  75.101390\n",
       "23    17.5  64.003302\n",
       "24     7.8  10.849301\n",
       "25    26.1  10.432080\n",
       "26     7.7   6.259866\n",
       "27    20.2  40.722350\n",
       "28    20.8  16.106290\n",
       "29     9.2   7.177753"
      ]
     },
     "execution_count": 24,
     "metadata": {},
     "output_type": "execute_result"
    }
   ],
   "source": [
    "data = pd.DataFrame({'Actual': y_test.flatten(), 'Predicted': y_predicted.flatten()})\n",
    "data.head(30)"
   ]
  },
  {
   "cell_type": "markdown",
   "id": "b6c073a9-d94f-45c2-bd78-b630096fcdb8",
   "metadata": {},
   "source": [
    "##### **Remarks**\n",
    "\n",
    "##### I'd say that, on average, the model’s predictions miss by about 13 points."
   ]
  },
  {
   "cell_type": "markdown",
   "id": "85146e23-32ec-49c1-818e-29b9011b6b6f",
   "metadata": {},
   "source": [
    "### **10) Final thoughts**"
   ]
  },
  {
   "cell_type": "markdown",
   "id": "930c2659-aded-4622-a29a-6999642489c2",
   "metadata": {},
   "source": [
    "##### While the R2 score - closer to 1 - indicates a good fit, the RMSE is still high, which indicates that individual predictions are not as accurate as expected. Therefore, I'd say that the model's performance is good, but must definitely be improved.\n",
    "\n",
    "##### When it comes to bias, the Employer Reputation - based on employers' feedback - could be biased by employers' preferences, perceptions, and the like. Any score based on human feedback may definitely be biased in some way."
   ]
  }
 ],
 "metadata": {
  "kernelspec": {
   "display_name": "Python 3 (ipykernel)",
   "language": "python",
   "name": "python3"
  },
  "language_info": {
   "codemirror_mode": {
    "name": "ipython",
    "version": 3
   },
   "file_extension": ".py",
   "mimetype": "text/x-python",
   "name": "python",
   "nbconvert_exporter": "python",
   "pygments_lexer": "ipython3",
   "version": "3.12.7"
  }
 },
 "nbformat": 4,
 "nbformat_minor": 5
}
